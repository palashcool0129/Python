{
 "cells": [
  {
   "cell_type": "markdown",
   "metadata": {},
   "source": [
    "# Python For Loops\n",
    "#A for loop is used for iterating over a sequence (that is either a list, a tuple, a dictionary, a set, or a string)."
   ]
  },
  {
   "cell_type": "code",
   "execution_count": null,
   "metadata": {},
   "outputs": [],
   "source": [
    "fruits = (\"apple\", \"banana\", \"cherry\")\n",
    "for x in fruits:\n",
    "    print(x)"
   ]
  },
  {
   "cell_type": "code",
   "execution_count": null,
   "metadata": {},
   "outputs": [],
   "source": [
    "#Even strings are iterable objects, they contain a sequence of characters:\n",
    "for x in \"banana\":\n",
    "    print(x)"
   ]
  },
  {
   "cell_type": "code",
   "execution_count": null,
   "metadata": {},
   "outputs": [],
   "source": [
    "for x in range(0, 5):\n",
    "    print(\"hello world\", x)"
   ]
  },
  {
   "cell_type": "code",
   "execution_count": 3,
   "metadata": {},
   "outputs": [
    {
     "name": "stdout",
     "output_type": "stream",
     "text": [
      "apple\n",
      "banana\n"
     ]
    }
   ],
   "source": [
    "# The break Statement\n",
    "\n",
    "#With the break statement we can stop the loop before it has looped through all the items:\n",
    "\n",
    "#Exit the loop when x is \"banana\":\n",
    "\n",
    "fruits = [\"apple\", \"banana\", \"cherry\"]\n",
    "for x in fruits:\n",
    "    print(x)\n",
    "    if x == \"banana\":\n",
    "        break"
   ]
  },
  {
   "cell_type": "code",
   "execution_count": 2,
   "metadata": {},
   "outputs": [
    {
     "name": "stdout",
     "output_type": "stream",
     "text": [
      "apple\n"
     ]
    }
   ],
   "source": [
    "#Exit the loop when x is \"banana\", but this time the break comes before the print:\n",
    "\n",
    "fruits = [\"apple\", \"banana\", \"cherry\"]\n",
    "for x in fruits:\n",
    "    if x == \"banana\":\n",
    "        break\n",
    "    print(x)"
   ]
  },
  {
   "cell_type": "code",
   "execution_count": 6,
   "metadata": {},
   "outputs": [
    {
     "name": "stdout",
     "output_type": "stream",
     "text": [
      "apple\n",
      "cherry\n"
     ]
    }
   ],
   "source": [
    "#The continue Statement\n",
    "#With the continue statement we can stop the current iteration of the loop, and continue with the next:\n",
    "\n",
    "#Do not print banana:\n",
    "\n",
    "fruits = [\"apple\", \"banana\", \"cherry\"]\n",
    "for x in fruits:\n",
    "    if x == \"banana\":\n",
    "        continue\n",
    "    print(x)"
   ]
  },
  {
   "cell_type": "code",
   "execution_count": 7,
   "metadata": {},
   "outputs": [
    {
     "name": "stdout",
     "output_type": "stream",
     "text": [
      "0\n",
      "1\n",
      "2\n",
      "3\n",
      "4\n",
      "5\n"
     ]
    }
   ],
   "source": [
    "#The range() Function\n",
    "#To loop through a set of code a specified number of times, we can use the range() function,\n",
    "#The range() function returns a sequence of numbers, starting from 0 by default, and increments by 1 (by default), and ends at a specified number.\n",
    "\n",
    "for x in range(6):\n",
    "    print(x)\n",
    "\n",
    "#Note that range(6) is not the values of 0 to 6, but the values 0 to 5."
   ]
  },
  {
   "cell_type": "code",
   "execution_count": 8,
   "metadata": {},
   "outputs": [
    {
     "name": "stdout",
     "output_type": "stream",
     "text": [
      "2\n",
      "3\n",
      "4\n",
      "5\n"
     ]
    }
   ],
   "source": [
    "#It is possible to specify the starting value by adding a parameter: range(2, 6), which means values from 2 to 6 (but not including 6):\n",
    "\n",
    "#Using the start parameter:\n",
    "\n",
    "for x in range(2, 6):\n",
    "    print(x)\n",
    "\n",
    "#The range() function defaults to increment the sequence by 1"
   ]
  },
  {
   "cell_type": "code",
   "execution_count": 9,
   "metadata": {},
   "outputs": [
    {
     "name": "stdout",
     "output_type": "stream",
     "text": [
      "2\n",
      "5\n",
      "8\n",
      "11\n",
      "14\n",
      "17\n",
      "20\n",
      "23\n",
      "26\n",
      "29\n"
     ]
    }
   ],
   "source": [
    "#To specify the increment value by adding a third parameter: range(2, 30, 3):\n",
    "\n",
    "#Increment the sequence with 3 (default is 1):\n",
    "\n",
    "for x in range(2, 30, 3):\n",
    "    print(x)"
   ]
  },
  {
   "cell_type": "code",
   "execution_count": 10,
   "metadata": {},
   "outputs": [
    {
     "name": "stdout",
     "output_type": "stream",
     "text": [
      "0\n",
      "1\n",
      "2\n",
      "3\n",
      "4\n",
      "5\n",
      "Finally finished!\n"
     ]
    }
   ],
   "source": [
    "#Else in For Loop\n",
    "#The else keyword in a for loop specifies a block of code to be executed when the loop is finished:\n",
    "#Print all numbers from 0 to 5, and print a message when the loop has ended:\n",
    "\n",
    "for x in range(6):\n",
    "    print(x)\n",
    "else:\n",
    "    print(\"Finally finished!\")\n"
   ]
  },
  {
   "cell_type": "code",
   "execution_count": 11,
   "metadata": {},
   "outputs": [
    {
     "name": "stdout",
     "output_type": "stream",
     "text": [
      "0\n",
      "1\n",
      "2\n",
      "3\n",
      "4\n",
      "The loop has completed execution\n"
     ]
    }
   ],
   "source": [
    "for val in range(5):\n",
    "    print(val)\n",
    "else:\n",
    "    print(\"The loop has completed execution\")"
   ]
  },
  {
   "cell_type": "code",
   "execution_count": 12,
   "metadata": {},
   "outputs": [
    {
     "name": "stdout",
     "output_type": "stream",
     "text": [
      "0\n",
      "1\n",
      "5\n",
      "No items left.\n"
     ]
    }
   ],
   "source": [
    "digits = [0, 1, 5]\n",
    "\n",
    "for i in digits:\n",
    "    print(i)\n",
    "else:\n",
    "    print(\"No items left.\")"
   ]
  },
  {
   "cell_type": "code",
   "execution_count": 14,
   "metadata": {},
   "outputs": [
    {
     "name": "stdout",
     "output_type": "stream",
     "text": [
      "55\n"
     ]
    }
   ],
   "source": [
    "# program to display student's marks from record\n",
    "student_name = 'Ria'\n",
    "\n",
    "marks = {'James': 90, 'Ria': 55, 'Ankur': 77}\n",
    "\n",
    "for student in marks:\n",
    "    if student == student_name:\n",
    "        print(marks[student])\n",
    "        break\n",
    "else:\n",
    "    print('No entry with that name found.')"
   ]
  },
  {
   "cell_type": "code",
   "execution_count": 16,
   "metadata": {},
   "outputs": [
    {
     "name": "stdout",
     "output_type": "stream",
     "text": [
      "red apple\n",
      "red banana\n",
      "red cherry\n",
      "big apple\n",
      "big banana\n",
      "big cherry\n",
      "tasty apple\n",
      "tasty banana\n",
      "tasty cherry\n"
     ]
    }
   ],
   "source": [
    "#Nested Loops\n",
    "#A nested loop is a loop inside a loop.\n",
    "\n",
    "#The \"inner loop\" will be executed one time for each iteration of the \"outer loop\":\n",
    "\n",
    "#Print each adjective for every fruit:\n",
    "\n",
    "adj = [\"red\", \"big\", \"tasty\"]\n",
    "fruits = [\"apple\", \"banana\", \"cherry\"]\n",
    "\n",
    "for x in adj:\n",
    "    for y in fruits:\n",
    "        print(x, y)"
   ]
  },
  {
   "cell_type": "code",
   "execution_count": 17,
   "metadata": {},
   "outputs": [
    {
     "name": "stdout",
     "output_type": "stream",
     "text": [
      "0 , 10\n",
      "0 , 11\n",
      "0 , 12\n",
      "0 , 13\n",
      "1 , 10\n",
      "1 , 11\n",
      "1 , 12\n",
      "1 , 13\n",
      "2 , 10\n",
      "2 , 11\n",
      "2 , 12\n",
      "2 , 13\n"
     ]
    }
   ],
   "source": [
    "for num1 in range(3):\n",
    "    for num2 in range(10, 14):\n",
    "        print(num1, \",\", num2)"
   ]
  },
  {
   "cell_type": "code",
   "execution_count": 19,
   "metadata": {},
   "outputs": [],
   "source": [
    "#The pass Statement\n",
    "#for loops cannot be empty, but if you for some reason have a for loop with no content, put in the pass statement to avoid getting an error.\n",
    "\n",
    "for x in [0, 1, 2]:\n",
    "    pass"
   ]
  },
  {
   "cell_type": "code",
   "execution_count": 21,
   "metadata": {},
   "outputs": [
    {
     "name": "stdout",
     "output_type": "stream",
     "text": [
      "The sum is 6\n",
      "The sum is 11\n",
      "The sum is 14\n",
      "The sum is 22\n",
      "The sum is 26\n",
      "The sum is 28\n",
      "The sum is 33\n",
      "The sum is 37\n",
      "The sum is 48\n"
     ]
    }
   ],
   "source": [
    "# Program to find the sum of all numbers stored in a list\n",
    "\n",
    "# List of numbers\n",
    "numbers = [6, 5, 3, 8, 4, 2, 5, 4, 11]\n",
    "\n",
    "# variable to store the sum\n",
    "sum = 0\n",
    "\n",
    "# iterate over the list\n",
    "for val in numbers:\n",
    "    sum = sum+val\n",
    "\n",
    "    print(\"The sum is\", sum)"
   ]
  },
  {
   "cell_type": "code",
   "execution_count": 23,
   "metadata": {},
   "outputs": [
    {
     "name": "stdout",
     "output_type": "stream",
     "text": [
      "I like pop\n",
      "I like rock\n",
      "I like jazz\n"
     ]
    }
   ],
   "source": [
    "# Program to iterate through a list using indexing\n",
    "\n",
    "genre = ['pop', 'rock', 'jazz']\n",
    "\n",
    "# iterate over the list using index\n",
    "for i in range(len(genre)):\n",
    "    print(\"I like\", genre[i])"
   ]
  },
  {
   "cell_type": "code",
   "execution_count": 28,
   "metadata": {},
   "outputs": [
    {
     "name": "stdout",
     "output_type": "stream",
     "text": [
      "1\n",
      "4\n",
      "16\n",
      "36\n",
      "121\n",
      "400\n"
     ]
    }
   ],
   "source": [
    "# Program to print squares of all numbers present in a list\n",
    "\n",
    "# List of integer numbers\n",
    "numbers = [1, 2, 4, 6, 11, 20]\n",
    "\n",
    "# variable to store the square of each num temporary\n",
    "sq = 0\n",
    "\n",
    "# iterating over the given list\n",
    "for val in numbers:\n",
    "    # calculating square of each number\n",
    "    sq = val * val\n",
    "    # displaying the squares\n",
    "    print(sq)"
   ]
  },
  {
   "cell_type": "code",
   "execution_count": 29,
   "metadata": {},
   "outputs": [
    {
     "name": "stdout",
     "output_type": "stream",
     "text": [
      "15\n"
     ]
    }
   ],
   "source": [
    "# Program to print the sum of first 5 natural numbers\n",
    "\n",
    "# variable to store the sum\n",
    "sum = 0\n",
    "\n",
    "# iterating over natural numbers using range()\n",
    "for val in range(1, 6):\n",
    "    # calculating sum\n",
    "    sum = sum + val\n",
    "\n",
    "# displaying sum of first 5 natural numbers\n",
    "print(sum)"
   ]
  },
  {
   "cell_type": "code",
   "execution_count": 10,
   "metadata": {},
   "outputs": [
    {
     "name": "stdout",
     "output_type": "stream",
     "text": [
      "Even numbers in the list:  3\n"
     ]
    }
   ],
   "source": [
    "#counts the number of even numbers from a series of numbers.\n",
    "# list of numbers \n",
    "list1 = [10, 21, 4, 45, 66, 93, 1] \n",
    "  \n",
    "even_count= 0\n",
    "  \n",
    "# iterating each number in list \n",
    "for num in list1: \n",
    "      \n",
    "    # checking condition \n",
    "    if num % 2 == 0: \n",
    "        even_count += 1\n",
    "              \n",
    "print(\"Even numbers in the list: \", even_count) \n"
   ]
  },
  {
   "cell_type": "code",
   "execution_count": 31,
   "metadata": {},
   "outputs": [
    {
     "name": "stdout",
     "output_type": "stream",
     "text": [
      "1\n",
      "2\n",
      "3\n",
      "4\n",
      "5\n",
      "6\n",
      "7\n",
      "8\n",
      "9\n"
     ]
    }
   ],
   "source": [
    "#Loop over Lists of lists\n",
    "\n",
    "list_of_lists = [ [1, 2, 3], [4, 5, 6], [7, 8, 9]]\n",
    "for list in list_of_lists:\n",
    "    for x in list:\n",
    "        print(x)"
   ]
  },
  {
   "cell_type": "code",
   "execution_count": 35,
   "metadata": {},
   "outputs": [
    {
     "name": "stdout",
     "output_type": "stream",
     "text": [
      "***Generates a list of 3 values starting from 0***\n",
      "Welcome 0 times.\n",
      "Welcome 1 times.\n",
      "Welcome 2 times.\n",
      "*** Generates a list of 3 values starting from 1 ***\n",
      "Welcome 1 times.\n",
      "Welcome 2 times.\n",
      "Welcome 3 times.\n"
     ]
    }
   ],
   "source": [
    "print (\"***Generates a list of 3 values starting from 0\")\n",
    "for i in range(3):\n",
    "    print (\"Welcome\",i,\"times.\")\n",
    "    \n"
   ]
  },
  {
   "cell_type": "markdown",
   "metadata": {},
   "source": [
    "%s and %d are used for string formatting where %s and %d holds place for a string and a number respectively, and their associated values are passed using a tuple with % operator."
   ]
  },
  {
   "cell_type": "code",
   "execution_count": 2,
   "metadata": {},
   "outputs": [
    {
     "name": "stdout",
     "output_type": "stream",
     "text": [
      "Tiya 12\n"
     ]
    }
   ],
   "source": [
    "name = 'Tiya'\n",
    "age = 12\n",
    "print ('%s %d' % (name, age))"
   ]
  },
  {
   "cell_type": "code",
   "execution_count": 38,
   "metadata": {},
   "outputs": [
    {
     "name": "stdout",
     "output_type": "stream",
     "text": [
      "10 equals 2 * 5\n",
      "11 is a prime number\n",
      "12 equals 2 * 6\n",
      "13 is a prime number\n",
      "14 equals 2 * 7\n",
      "15 equals 3 * 5\n",
      "16 equals 2 * 8\n",
      "17 is a prime number\n",
      "18 equals 2 * 9\n",
      "19 is a prime number\n"
     ]
    }
   ],
   "source": [
    "#The following example illustrates the combination of an else statement with a for statement that searches for prime numbers from 10 through 20.\n",
    "for num in range(10,20):     #to iterate between 10 to 20\n",
    "    for i in range(2,num):    #to iterate on the factors of the number\n",
    "        if num%i == 0:         #to determine the first factor\n",
    "            j=num/i             #to calculate the second factor\n",
    "            print('%d equals %d * %d' % (num,i,j))\n",
    "            break #to move to the next number, the #first FOR\n",
    "    else:                  # else part of the loop\n",
    "        print(num, 'is a prime number')"
   ]
  },
  {
   "cell_type": "code",
   "execution_count": 18,
   "metadata": {},
   "outputs": [
    {
     "name": "stdout",
     "output_type": "stream",
     "text": [
      "1 \n",
      "1 2 \n",
      "1 2 3 \n",
      "1 2 3 4 \n",
      "1 2 3 4 5 \n"
     ]
    }
   ],
   "source": [
    "#Print the pattern\n",
    "for x in range(1,6):\n",
    "    for y in range(1, x + 1):\n",
    "        print(y, end=' ')\n",
    "    print(\"\")"
   ]
  },
  {
   "cell_type": "markdown",
   "metadata": {},
   "source": [
    "# Lab Exercise"
   ]
  },
  {
   "cell_type": "code",
   "execution_count": null,
   "metadata": {},
   "outputs": [],
   "source": [
    "#Write a python program with for loop to iterate over a list using range()\n"
   ]
  },
  {
   "cell_type": "code",
   "execution_count": null,
   "metadata": {},
   "outputs": [],
   "source": [
    "#Write a Python Program to print Cubes of all numbers present in a list"
   ]
  },
  {
   "cell_type": "code",
   "execution_count": null,
   "metadata": {},
   "outputs": [],
   "source": [
    "#Generates a list of 5 values starting from 1 ***\")\n"
   ]
  },
  {
   "cell_type": "code",
   "execution_count": null,
   "metadata": {},
   "outputs": [],
   "source": [
    "#Write a Python program that prints all the numbers from 0 to 6 except 3 and 6.\n",
    "#Hint:Use continue"
   ]
  },
  {
   "cell_type": "code",
   "execution_count": null,
   "metadata": {},
   "outputs": [],
   "source": [
    " #Write a Python Program to print the Product of first 10 natural numbers"
   ]
  },
  {
   "cell_type": "code",
   "execution_count": null,
   "metadata": {},
   "outputs": [],
   "source": [
    "#Write a Python program to display all the elements before number 71 in the list [11, 9, 77, 10, 90, 3, 19]\n",
    "#Hint: break"
   ]
  },
  {
   "cell_type": "code",
   "execution_count": null,
   "metadata": {},
   "outputs": [],
   "source": [
    "#Accept number from user and calculate the sum of all number between 1 and given number"
   ]
  },
  {
   "cell_type": "code",
   "execution_count": null,
   "metadata": {},
   "outputs": [],
   "source": [
    "#Print multiplication table of given number(from user)"
   ]
  },
  {
   "cell_type": "code",
   "execution_count": null,
   "metadata": {},
   "outputs": [],
   "source": [
    "# Given a list iterate it and display numbers which are divisible by 5"
   ]
  },
  {
   "cell_type": "code",
   "execution_count": null,
   "metadata": {},
   "outputs": [],
   "source": [
    "#Given a list iterate it and display numbers which are divisible by 5 and if you find number greater than 150 stop the loop iteration\n"
   ]
  },
  {
   "cell_type": "markdown",
   "metadata": {},
   "source": [
    "#Print the following pattern using for loop\n",
    "\n",
    "5 4 3 2 1 \n",
    "\n",
    "4 3 2 1 \n",
    "\n",
    "3 2 1 \n",
    "\n",
    "2 1 \n",
    "\n",
    "1"
   ]
  },
  {
   "cell_type": "code",
   "execution_count": 20,
   "metadata": {},
   "outputs": [],
   "source": [
    "#Display -10 to -1 using for loop"
   ]
  },
  {
   "cell_type": "code",
   "execution_count": null,
   "metadata": {},
   "outputs": [],
   "source": [
    "# Python Program to Calculate Sum of Even Numbers from 1 to N(from user)\n",
    " "
   ]
  },
  {
   "cell_type": "code",
   "execution_count": null,
   "metadata": {},
   "outputs": [],
   "source": [
    "#Write a python program to read three numbers (a,b,c) and check how many numbers between ‘a’ and ‘b’ are divisible by ‘c’"
   ]
  },
  {
   "cell_type": "code",
   "execution_count": null,
   "metadata": {},
   "outputs": [],
   "source": []
  }
 ],
 "metadata": {
  "kernelspec": {
   "display_name": "Python 3",
   "language": "python",
   "name": "python3"
  },
  "language_info": {
   "codemirror_mode": {
    "name": "ipython",
    "version": 3
   },
   "file_extension": ".py",
   "mimetype": "text/x-python",
   "name": "python",
   "nbconvert_exporter": "python",
   "pygments_lexer": "ipython3",
   "version": "3.7.6"
  }
 },
 "nbformat": 4,
 "nbformat_minor": 4
}
