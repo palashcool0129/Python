{
 "cells": [
  {
   "cell_type": "markdown",
   "metadata": {},
   "source": [
    "Basically, we can divide functions into the following two types:\n",
    "\n",
    "1. Built-in functions - Functions that are built into Python.\n",
    "2. User-defined functions - Functions defined by the users themselves."
   ]
  },
  {
   "cell_type": "markdown",
   "metadata": {},
   "source": [
    "# Built-in functions"
   ]
  },
  {
   "cell_type": "code",
   "execution_count": 1,
   "metadata": {},
   "outputs": [
    {
     "name": "stdout",
     "output_type": "stream",
     "text": [
      "7.25\n",
      "Absolute value of -40 is: 20\n",
      "Absolute value of -20.83 is: 20.83\n"
     ]
    }
   ],
   "source": [
    "#Python abs() Function\n",
    "\n",
    "#Return the absolute value of a number:\n",
    "\n",
    "x = abs(-7.25)\n",
    "print(x)\n",
    "\n",
    "\n",
    "integer = -20  \n",
    "print('Absolute value of -40 is:', abs(integer)) \n",
    "\n",
    "\n",
    "floating = -20.83  \n",
    "print('Absolute value of -20.83 is:', abs(floating))  "
   ]
  },
  {
   "cell_type": "code",
   "execution_count": 2,
   "metadata": {},
   "outputs": [
    {
     "name": "stdout",
     "output_type": "stream",
     "text": [
      "True\n"
     ]
    }
   ],
   "source": [
    "#all() Function\n",
    "\n",
    "#Check if all items in a list are True:\n",
    "\n",
    "mylist = [True, True, True]\n",
    "x = all(mylist)\n",
    "print(x)"
   ]
  },
  {
   "cell_type": "code",
   "execution_count": 3,
   "metadata": {},
   "outputs": [
    {
     "name": "stdout",
     "output_type": "stream",
     "text": [
      "True\n"
     ]
    }
   ],
   "source": [
    "#any()\tReturns True if any item in an iterable object is true\n",
    "\n",
    "mylist = [False, True, False]\n",
    "x = any(mylist)\n",
    "print(x)"
   ]
  },
  {
   "cell_type": "code",
   "execution_count": 4,
   "metadata": {},
   "outputs": [
    {
     "name": "stdout",
     "output_type": "stream",
     "text": [
      "0b1010\n"
     ]
    }
   ],
   "source": [
    "#bin()\tReturns the binary version of a numbe\n",
    "#Return the binary version of 36:\n",
    "\n",
    "\n",
    "x =  10  \n",
    "y =  bin(x)  \n",
    "print (y)  "
   ]
  },
  {
   "cell_type": "markdown",
   "metadata": {},
   "source": [
    "#bool()\tReturns the boolean value of the specified object\n",
    "\n",
    "#If we don’t pass any value to bool() function, it returns False.\n",
    "This function returns False for all the following values:\n",
    "\n",
    "1. None\n",
    "    \n",
    "2. False\n",
    "\n",
    "3. Zero number of any type such as int, float and complex. For example: 0, 0.0, 0j\n",
    "    \n",
    "4. Empty list [], Empty tuple (), Empty String ”.\n",
    "\n",
    "5. Empty dictionary {}.\n"
   ]
  },
  {
   "cell_type": "code",
   "execution_count": 14,
   "metadata": {},
   "outputs": [
    {
     "data": {
      "text/plain": [
       "True"
      ]
     },
     "execution_count": 14,
     "metadata": {},
     "output_type": "execute_result"
    }
   ],
   "source": [
    "x = bool(\"Nidhi\")\n",
    "x\n",
    "\n"
   ]
  },
  {
   "cell_type": "code",
   "execution_count": 11,
   "metadata": {},
   "outputs": [
    {
     "name": "stdout",
     "output_type": "stream",
     "text": [
      "7\n",
      "17\n"
     ]
    }
   ],
   "source": [
    "#Python sum() Function\n",
    "#As the name says, python sum() function is used to get the sum of numbers of an iterable, i.e., list.\n",
    "\n",
    "#Python sum() Function Example\n",
    "\n",
    "s = sum([1, 2,4 ])  \n",
    "print(s)  \n",
    "  \n",
    "s = sum([1, 2, 4], 10)  \n",
    "print(s)  "
   ]
  },
  {
   "cell_type": "code",
   "execution_count": 16,
   "metadata": {},
   "outputs": [
    {
     "name": "stdout",
     "output_type": "stream",
     "text": [
      "16\n"
     ]
    }
   ],
   "source": [
    "#Python eval() Function\n",
    "#The python eval() function parses the expression passed to it and runs python expression(code) within the program.\n",
    "\n",
    "\n",
    "x = 8  \n",
    "print(eval('x*2'))  "
   ]
  },
  {
   "cell_type": "code",
   "execution_count": 17,
   "metadata": {},
   "outputs": [
    {
     "name": "stdout",
     "output_type": "stream",
     "text": [
      "9.0\n",
      "8.19\n",
      "-24.27\n",
      "-17.19\n"
     ]
    },
    {
     "ename": "ValueError",
     "evalue": "could not convert string to float: 'xyz'",
     "output_type": "error",
     "traceback": [
      "\u001b[1;31m---------------------------------------------------------------------------\u001b[0m",
      "\u001b[1;31mValueError\u001b[0m                                Traceback (most recent call last)",
      "\u001b[1;32m<ipython-input-17-c9c0c5d265bb>\u001b[0m in \u001b[0;36m<module>\u001b[1;34m\u001b[0m\n\u001b[0;32m     15\u001b[0m \u001b[1;33m\u001b[0m\u001b[0m\n\u001b[0;32m     16\u001b[0m \u001b[1;31m# string float error\u001b[0m\u001b[1;33m\u001b[0m\u001b[1;33m\u001b[0m\u001b[1;33m\u001b[0m\u001b[0m\n\u001b[1;32m---> 17\u001b[1;33m \u001b[0mprint\u001b[0m\u001b[1;33m(\u001b[0m\u001b[0mfloat\u001b[0m\u001b[1;33m(\u001b[0m\u001b[1;34m\"xyz\"\u001b[0m\u001b[1;33m)\u001b[0m\u001b[1;33m)\u001b[0m\u001b[1;33m\u001b[0m\u001b[1;33m\u001b[0m\u001b[0m\n\u001b[0m",
      "\u001b[1;31mValueError\u001b[0m: could not convert string to float: 'xyz'"
     ]
    }
   ],
   "source": [
    "#Python float()\n",
    "#The python float() function returns a floating-point number from a number.\n",
    "\n",
    "# for integers  \n",
    "print(float(9))  \n",
    "  \n",
    "# for floats  \n",
    "print(float(8.19))  \n",
    "  \n",
    "# for string floats  \n",
    "print(float(\"-24.27\"))  \n",
    "  \n",
    "# for string floats with whitespaces  \n",
    "print(float(\"     -17.19\\n\"))  \n",
    "  \n",
    "# string float error  \n",
    "print(float(\"xyz\"))  "
   ]
  },
  {
   "cell_type": "code",
   "execution_count": 21,
   "metadata": {},
   "outputs": [
    {
     "name": "stdout",
     "output_type": "stream",
     "text": [
      "(1+0j)\n",
      "(1+2j)\n"
     ]
    }
   ],
   "source": [
    "# Python complex()\n",
    "#Python complex() function is used to convert numbers or string into a complex number. This method takes two optional parameters and returns a complex number. The first parameter is called a real and second as imaginary parts.\n",
    "\n",
    "# Python complex() function example  \n",
    "# Calling function  \n",
    "a = complex(1) # Passing single parameter  \n",
    "b = complex(1,2) # Passing both parameters  \n",
    "# Displaying result  \n",
    "print(a)  \n",
    "print(b)  "
   ]
  },
  {
   "cell_type": "code",
   "execution_count": null,
   "metadata": {},
   "outputs": [],
   "source": [
    "#Python min() Function Example\n",
    "\n",
    "# Calling function  \n",
    "small = min(2225,325,2025) # returns smallest element  \n",
    "small2 = min(1000.25,2025.35,5625.36,10052.50)  \n",
    "# Displaying result  \n",
    "print(small)  \n",
    "print(small2) "
   ]
  },
  {
   "cell_type": "code",
   "execution_count": 23,
   "metadata": {},
   "outputs": [
    {
     "name": "stdout",
     "output_type": "stream",
     "text": [
      "0x1\n",
      "0x156\n"
     ]
    }
   ],
   "source": [
    "#Python hex() Function\n",
    "#Python hex() function is used to generate hex value of an integer argument. It takes an integer argument and returns an integer converted into a hexadecimal string. In case, we want to get a hexadecimal value of a float, then use float.hex() function.\n",
    "\n",
    "\n",
    "# Calling function  \n",
    "result = hex(1)   \n",
    "# integer value  \n",
    "result2 = hex(342)   \n",
    "# Displaying result  \n",
    "print(result)  \n",
    "print(result2)  "
   ]
  },
  {
   "cell_type": "code",
   "execution_count": 24,
   "metadata": {},
   "outputs": [
    {
     "name": "stdout",
     "output_type": "stream",
     "text": [
      "Octal value of 10: 0o12\n"
     ]
    }
   ],
   "source": [
    "#Python oct() function Example\n",
    "\n",
    "# Calling function  \n",
    "val = oct(10)  \n",
    "# Displaying result  \n",
    "print(\"Octal value of 10:\",val)  "
   ]
  },
  {
   "cell_type": "code",
   "execution_count": 27,
   "metadata": {},
   "outputs": [
    {
     "name": "stdout",
     "output_type": "stream",
     "text": [
      "['t', 's', 'm', 'e']\n"
     ]
    }
   ],
   "source": [
    "#Python sorted() Function Example\n",
    "\n",
    "str = \"stme\" # declaring string  \n",
    "# Calling function  \n",
    "sorted1 = sorted(str, reverse=True) # sorting string  \n",
    "# Displaying result  \n",
    "print(sorted1) "
   ]
  },
  {
   "cell_type": "code",
   "execution_count": null,
   "metadata": {},
   "outputs": [],
   "source": [
    "#Python input() Function\n",
    "#Python input() function is used to get an input from the user. It prompts for the user input and reads a line. After reading data, it converts it into a string and returns it. It throws an error EOFError if EOF is read.\n",
    "\n",
    "\n",
    "# Calling function  \n",
    "val = input(\"Enter a value: \")  \n",
    "# Displaying result  \n",
    "print(\"You entered:\",val)  "
   ]
  },
  {
   "cell_type": "code",
   "execution_count": 1,
   "metadata": {},
   "outputs": [
    {
     "name": "stdout",
     "output_type": "stream",
     "text": [
      "integer values : 10 10 10\n"
     ]
    }
   ],
   "source": [
    "#Python int() Function\n",
    "#Python int() function is used to get an integer value. \n",
    "#It returns an expression converted into an integer number. \n",
    "#If the argument is a floating-point, the conversion truncates the number.\n",
    "#If the argument is outside the integer range, then it converts the number into a long type.\n",
    "#If the number is not a number or if a base is given, the number must be a string.\n",
    "\n",
    "#Python int() Function Example\n",
    "\n",
    "# Calling function  \n",
    "val = int(10) # integer value  \n",
    "val2 = int(10.52) # float value  \n",
    "val3 = int('10') # string value  \n",
    "# Displaying result  \n",
    "print(\"integer values :\",val, val2, val3)  "
   ]
  },
  {
   "cell_type": "code",
   "execution_count": 2,
   "metadata": {},
   "outputs": [
    {
     "name": "stdout",
     "output_type": "stream",
     "text": [
      "16\n",
      "16\n",
      "0.0625\n",
      "0.0625\n"
     ]
    }
   ],
   "source": [
    "#Python pow() Function\n",
    "#The python pow() function is used to compute the power of a number. \n",
    "#It returns x to the power of y. If the third argument(z) is given, it returns x to the power of y modulus z, i.e. (x, y) % z.\n",
    "\n",
    "# positive x, positive y (x**y)  \n",
    "print(pow(4, 2))  \n",
    "  \n",
    "# negative x, positive y  \n",
    "print(pow(-4, 2))  \n",
    "  \n",
    "# positive x, negative y (x**-y)  \n",
    "print(pow(4, -2))  \n",
    "  \n",
    "# negative x, negative y  \n",
    "print(pow(-4, -2))  "
   ]
  },
  {
   "cell_type": "code",
   "execution_count": 3,
   "metadata": {},
   "outputs": [
    {
     "name": "stdout",
     "output_type": "stream",
     "text": [
      "[]\n",
      "[0, 1, 2, 3]\n",
      "[1, 2, 3, 4, 5, 6]\n"
     ]
    }
   ],
   "source": [
    "#Python range() function Example\n",
    "\n",
    "# empty range  \n",
    "print(list(range(0)))  \n",
    "  \n",
    "# using the range(stop)  \n",
    "print(list(range(4)))  \n",
    "  \n",
    "# using the range(start, stop)  \n",
    "print(list(range(1,7 )))  "
   ]
  },
  {
   "cell_type": "code",
   "execution_count": 4,
   "metadata": {},
   "outputs": [
    {
     "name": "stdout",
     "output_type": "stream",
     "text": [
      "['a', 'v', 'a', 'J']\n",
      "['a', 'v', 'a', 'J']\n",
      "[11, 10, 9, 8]\n",
      "[5, 7, 2, 1]\n"
     ]
    }
   ],
   "source": [
    "#Python reversed() function Example\n",
    "\n",
    "# for string  \n",
    "String = 'Java'  \n",
    "print(list(reversed(String)))  \n",
    "  \n",
    "# for tuple  \n",
    "Tuple = ('J', 'a', 'v', 'a')  \n",
    "print(list(reversed(Tuple)))  \n",
    "  \n",
    "# for range  \n",
    "Range = range(8, 12)  \n",
    "print(list(reversed(Range)))  \n",
    "  \n",
    "# for list  \n",
    "List = [1, 2, 7, 5]  \n",
    "print(list(reversed(List)))  "
   ]
  },
  {
   "cell_type": "code",
   "execution_count": 5,
   "metadata": {},
   "outputs": [
    {
     "name": "stdout",
     "output_type": "stream",
     "text": [
      "10\n",
      "11\n",
      "7\n"
     ]
    }
   ],
   "source": [
    "#Python round() Function Example\n",
    "\n",
    "#  for integers  \n",
    "print(round(10))  \n",
    "  \n",
    "#  for floating point  \n",
    "print(round(10.8))  \n",
    "  \n",
    "#  even choice  \n",
    "print(round(6.6))  "
   ]
  },
  {
   "cell_type": "code",
   "execution_count": 6,
   "metadata": {},
   "outputs": [
    {
     "name": "stdout",
     "output_type": "stream",
     "text": [
      "<class 'list'>\n",
      "<class 'dict'>\n"
     ]
    }
   ],
   "source": [
    "#Python type() Function Example\n",
    "\n",
    "List = [4, 5]  \n",
    "print(type(List))  \n",
    "  \n",
    "Dict = {4: 'four', 5: 'five'}  \n",
    "print(type(Dict))  "
   ]
  },
  {
   "cell_type": "markdown",
   "metadata": {},
   "source": [
    "The map() function applies a given function to each item of an iterable (list, tuple etc.) and returns a list of the results."
   ]
  },
  {
   "cell_type": "code",
   "execution_count": null,
   "metadata": {},
   "outputs": [],
   "source": []
  }
 ],
 "metadata": {
  "kernelspec": {
   "display_name": "Python 3",
   "language": "python",
   "name": "python3"
  },
  "language_info": {
   "codemirror_mode": {
    "name": "ipython",
    "version": 3
   },
   "file_extension": ".py",
   "mimetype": "text/x-python",
   "name": "python",
   "nbconvert_exporter": "python",
   "pygments_lexer": "ipython3",
   "version": "3.7.6"
  }
 },
 "nbformat": 4,
 "nbformat_minor": 4
}
