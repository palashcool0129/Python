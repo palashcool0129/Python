{
 "cells": [
  {
   "cell_type": "markdown",
   "metadata": {},
   "source": [
    "# Visualization with Python Matplotlib"
   ]
  },
  {
   "cell_type": "markdown",
   "metadata": {},
   "source": [
    "Matplotlib is a plotting library for Python. It is used along with NumPy to provide an environment that is an effective open source alternative for MatLab"
   ]
  },
  {
   "cell_type": "markdown",
   "metadata": {},
   "source": [
    "There are various plots which can be created using python matplotlib. Some of them are listed below\n",
    "\n",
    "1. Line Charts\n",
    "\n",
    "2. Bar Graphs\n",
    "\n",
    "3. Histograms\n",
    "\n",
    "4. Scatter Plots \n",
    "\n",
    "5. Pie Charts"
   ]
  },
  {
   "cell_type": "code",
   "execution_count": 3,
   "metadata": {},
   "outputs": [],
   "source": [
    "import numpy as np \n",
    "\n",
    "# importing the required module \n",
    "import matplotlib.pyplot as plt \n",
    "  "
   ]
  },
  {
   "cell_type": "markdown",
   "metadata": {},
   "source": [
    "# Line Charts"
   ]
  },
  {
   "cell_type": "code",
   "execution_count": null,
   "metadata": {},
   "outputs": [],
   "source": [
    "# x axis values \n",
    "x = [1,2,3] \n",
    "# corresponding y axis values \n",
    "y = [2,4,1] \n",
    "  \n",
    "# plotting the points  \n",
    "plt.plot(x, y)"
   ]
  },
  {
   "cell_type": "code",
   "execution_count": null,
   "metadata": {},
   "outputs": [],
   "source": [
    "x = np.arange(1,11) \n",
    "y = 2 * x + 5 \n",
    "plt.title(\"Matplotlib demo\") \n",
    "plt.xlabel(\"x axis caption\") \n",
    "plt.ylabel(\"y axis caption\") \n",
    "plt.plot(x,y) \n",
    "plt.show()"
   ]
  },
  {
   "cell_type": "markdown",
   "metadata": {},
   "source": [
    "Following formatting characters can be used.\n",
    "\n",
    "1   '-' Solid line style\n",
    "\n",
    "2\t'--' Dashed line style\n",
    "\n",
    "3\t '-.' Dash-dot line style\n",
    "\n",
    "4\t ':' Dotted line style\n",
    "\n",
    "5\t '.' Point marker\n",
    "\n",
    "6\t  ',' Pixel marker\n",
    "\n",
    "7\t 'o'  Circle marker\n",
    "\n",
    "8\t 'v' Triangle_down marker\n",
    "\n",
    "9\t  '^' Triangle_up marker\n",
    "\n",
    "10\t '<' Triangle_left marker\n",
    "\n",
    "11\t '>' Triangle_right marker\n",
    "\n",
    "12\t '1' Tri_down marker\n",
    "\n",
    "13\t '2' Tri_up marker\n",
    "\n",
    "14\t '3' Tri_left marker\n",
    "\n",
    "15\t '4' Tri_right marker\n",
    "\n",
    "16\t 's' Square marker\n",
    "\n",
    "17\t 'p' Pentagon marker\n",
    "\n",
    "18\t '*' Star marker\n",
    "\n",
    "19\t 'h' Hexagon1 marker\n",
    "\n",
    "20\t 'H' Hexagon2 marker\n",
    "\n",
    "21\t '+' Plus marker\n",
    "\n",
    "22\t 'x' X marker\n",
    "\n",
    "23\t 'D' Diamond marker\n",
    "\n",
    "24\t 'd' Thin_diamond marker\n",
    "\n",
    "25\t '|' Vline marker\n",
    "\n",
    "26\t '_' Hline marker\n",
    "\n",
    "\n",
    "The following color abbreviations are also defined.\n",
    "\n",
    "1. 'b'\tBlue\n",
    "2. 'g'\tGreen\n",
    "3. 'r'\tRed\n",
    "4. 'c'\tCyan\n",
    "5 'm'\tMagenta\n",
    "6. 'y'\tYellow\n",
    "7. 'k'\tBlack\n",
    "8. 'w'\tWhite\n"
   ]
  },
  {
   "cell_type": "code",
   "execution_count": null,
   "metadata": {},
   "outputs": [],
   "source": [
    "#To display the circles representing points, instead of the line in the above example, use “ob” as the format string in plot() function."
   ]
  },
  {
   "cell_type": "code",
   "execution_count": null,
   "metadata": {},
   "outputs": [],
   "source": [
    "x = np.arange(1,11) \n",
    "y = 2 * x + 5 \n",
    "plt.title(\"Matplotlib demo\") \n",
    "plt.xlabel(\"x axis caption\") \n",
    "plt.ylabel(\"y axis caption\") \n",
    "#plt.plot(x,y,\"ro\") \n",
    "plt.plot(x, y, color='green', linestyle='dashed', linewidth = 3, \n",
    "         marker='o', markerfacecolor='blue', markersize=12) \n",
    "plt.show() \n",
    "\n",
    "\n",
    "#Comment on Correlation"
   ]
  },
  {
   "cell_type": "markdown",
   "metadata": {},
   "source": [
    "# Plotting two or more lines on same plot"
   ]
  },
  {
   "cell_type": "code",
   "execution_count": null,
   "metadata": {},
   "outputs": [],
   "source": [
    "# line 1 points \n",
    "x1 = [1,2,3] \n",
    "y1 = [2,4,1] \n",
    "# plotting the line 1 points  \n",
    "plt.plot(x1, y1, label = \"line 1\") \n",
    "  \n",
    "# line 2 points \n",
    "x2 = [1,2,3] \n",
    "y2 = [4,1,3] \n",
    "# plotting the line 2 points  \n",
    "plt.plot(x2, y2, label = \"line 2\") \n",
    "  \n",
    "# naming the x axis \n",
    "plt.xlabel('x - axis') \n",
    "# naming the y axis \n",
    "plt.ylabel('y - axis') \n",
    "# giving a title to my graph \n",
    "plt.title('Two lines on same graph!') \n",
    "  \n",
    "# show a legend on the plot \n",
    "plt.legend() \n",
    "  \n",
    "# function to show the plot \n",
    "plt.show() "
   ]
  },
  {
   "cell_type": "markdown",
   "metadata": {},
   "source": [
    "# Customization of Plots"
   ]
  },
  {
   "cell_type": "code",
   "execution_count": null,
   "metadata": {},
   "outputs": [],
   "source": [
    "# x axis values \n",
    "x = [1,2,3,4,5,6] \n",
    "# corresponding y axis values \n",
    "y = [2,4,1,5,2,6] \n",
    "  \n",
    "# plotting the points  \n",
    "plt.plot(x, y, color='green', linestyle='dashed', linewidth = 3, \n",
    "         marker='o', markerfacecolor='blue', markersize=12) \n",
    "  \n",
    "# setting x and y axis range \n",
    "plt.ylim(1,8) \n",
    "plt.xlim(1,8) \n",
    "  \n",
    "# naming the x axis \n",
    "plt.xlabel('x - axis') \n",
    "# naming the y axis \n",
    "plt.ylabel('y - axis') \n",
    "  \n",
    "# giving a title to my graph \n",
    "plt.title('Some cool customizations!') \n",
    "  \n",
    "# function to show the plot \n",
    "plt.show() "
   ]
  },
  {
   "cell_type": "markdown",
   "metadata": {},
   "source": [
    "# Sine Wave Plot"
   ]
  },
  {
   "cell_type": "code",
   "execution_count": null,
   "metadata": {},
   "outputs": [],
   "source": [
    "# Compute the x and y coordinates for points on a sine curve \n",
    "x = np.arange(0, 3 * np.pi, 0.1) \n",
    "y = np.sin(x) \n",
    "plt.title(\"sine wave form\") \n",
    "\n",
    "# Plot the points using matplotlib \n",
    "plt.plot(x, y) \n",
    "plt.show() "
   ]
  },
  {
   "cell_type": "markdown",
   "metadata": {},
   "source": [
    "# subplot()\n",
    "\n",
    "The subplot() function allows you to plot different things in the same figure. In the following script, sine and cosine values are plotted."
   ]
  },
  {
   "cell_type": "code",
   "execution_count": null,
   "metadata": {},
   "outputs": [],
   "source": [
    "# Compute the x and y coordinates for points on sine and cosine curves \n",
    "x = np.arange(0, 3 * np.pi, 0.1) \n",
    "y_sin = np.sin(x) \n",
    "y_cos = np.cos(x)  \n",
    "   \n",
    "# Set up a subplot grid that has height 2 and width 1, \n",
    "# and set the first such subplot as active. \n",
    "plt.subplot(2, 1, 1)\n",
    "   \n",
    "# Make the first plot \n",
    "plt.plot(x, y_sin) \n",
    "plt.title('Sine')  \n",
    "   \n",
    "# Set the second subplot as active, and make the second plot. \n",
    "plt.subplot(2, 1, 2) \n",
    "plt.plot(x, y_cos) \n",
    "plt.title('Cosine')  \n",
    "   \n",
    "# Show the figure. \n",
    "plt.show()"
   ]
  },
  {
   "cell_type": "markdown",
   "metadata": {},
   "source": [
    "# Bar Graph\n",
    "\n",
    "bar()\n",
    "\n",
    "The pyplot submodule provides bar() function to generate bar graphs. The following example produces the bar graph of two sets of x and y arrays."
   ]
  },
  {
   "cell_type": "code",
   "execution_count": null,
   "metadata": {},
   "outputs": [],
   "source": [
    "x = [5,8,10] \n",
    "y = [12,16,6]  \n",
    "\n",
    "x2 = [6,9,11] \n",
    "y2 = [6,15,7] \n",
    "plt.bar(x, y, align = 'center') \n",
    "plt.bar(x2, y2, color = 'g', align = 'center') \n",
    "plt.title('Bar graph') \n",
    "plt.ylabel('Y axis') \n",
    "plt.xlabel('X axis')  \n",
    "\n",
    "plt.show()"
   ]
  },
  {
   "cell_type": "markdown",
   "metadata": {},
   "source": [
    "# Histogram"
   ]
  },
  {
   "cell_type": "code",
   "execution_count": null,
   "metadata": {},
   "outputs": [],
   "source": [
    "a = np.array([22,87,5,43,56,73,55,54,11,20,51,5,79,31,27]) \n",
    "plt.hist(a, bins = [0,20,40,60,80,100]) \n",
    "plt.title(\"histogram\") \n",
    "plt.show()\n",
    "\n",
    "#Comment on Normality"
   ]
  },
  {
   "cell_type": "code",
   "execution_count": null,
   "metadata": {},
   "outputs": [],
   "source": [
    "population_age = [22,55,62,45,21,22,34,42,42,4,2,102,95,85,55,110,120,70,65,55,111,115,80,75,65,54,44,43,42,48]\n",
    "bins = [0,10,20,30,40,50,60,70,80,90,100]\n",
    "plt.hist(population_age, bins, histtype='bar', rwidth=0.8)\n",
    "plt.xlabel('age groups')\n",
    "plt.ylabel('Number of people')\n",
    "plt.title('Histogram')\n",
    "plt.show()"
   ]
  },
  {
   "cell_type": "markdown",
   "metadata": {},
   "source": [
    "# Scatter Plot"
   ]
  },
  {
   "cell_type": "code",
   "execution_count": null,
   "metadata": {},
   "outputs": [],
   "source": [
    "# x-axis values \n",
    "x = [5, 2, 9, 4, 7] \n",
    "  \n",
    "# Y-axis values \n",
    "y = [10, 5, 8, 4, 2] \n",
    "  \n",
    "# Function to plot scatter \n",
    "plt.scatter(x, y,color=\"r\") \n",
    "  \n",
    "# function to show the plot \n",
    "plt.show() "
   ]
  },
  {
   "cell_type": "code",
   "execution_count": null,
   "metadata": {},
   "outputs": [],
   "source": [
    "x = [1,1.5,2,2.5,3,3.5,3.6]\n",
    "y = [7.5,8,8.5,9,9.5,10,10.5]\n",
    " \n",
    "x1=[8,8.5,9,9.5,10,10.5,11]\n",
    "y1=[3,3.5,3.7,4,4.5,5,5.2]\n",
    " \n",
    "plt.scatter(x,y, label='high income low saving',color='r')\n",
    "plt.scatter(x1,y1,label='low income high savings',color='b')\n",
    "plt.xlabel('saving*100')\n",
    "plt.ylabel('income*1000')\n",
    "plt.title('Scatter Plot')\n",
    "plt.legend()\n",
    "plt.show()"
   ]
  },
  {
   "cell_type": "code",
   "execution_count": null,
   "metadata": {},
   "outputs": [],
   "source": [
    "# x-axis values \n",
    "x = [1,2,3,4,5,6,7,8,9,10] \n",
    "# y-axis values \n",
    "y = [2,4,5,7,6,8,9,11,12,12] \n",
    "  \n",
    "# plotting points as a scatter plot \n",
    "plt.scatter(x, y, label= \"stars\", color= \"green\",  \n",
    "            marker= \"*\", s=30) \n",
    "  \n",
    "# x-axis label \n",
    "plt.xlabel('x - axis') \n",
    "# frequency label \n",
    "plt.ylabel('y - axis') \n",
    "# plot title \n",
    "plt.title('My scatter plot!') \n",
    "# showing legend \n",
    "plt.legend() \n",
    "  \n",
    "# function to show the plot \n",
    "plt.show() "
   ]
  },
  {
   "cell_type": "markdown",
   "metadata": {},
   "source": [
    "# Pie-chart"
   ]
  },
  {
   "cell_type": "code",
   "execution_count": null,
   "metadata": {},
   "outputs": [],
   "source": [
    "# defining labels \n",
    "activities = ['eat', 'sleep', 'work', 'play'] \n",
    "  \n",
    "# portion covered by each label \n",
    "slices = [3, 7, 8, 6] \n",
    "  \n",
    "# color for each label \n",
    "colors = ['r', 'y', 'g', 'b'] \n",
    "  \n",
    "# plotting the pie chart \n",
    "plt.pie(slices, labels = activities, colors=colors,  \n",
    "        startangle=90, shadow = True, explode = (0, 0, 0.1, 0), \n",
    "        radius = 1.2, autopct = '%1.1f%%') \n",
    "  \n",
    "# plotting legend \n",
    "plt.legend() \n",
    "  \n",
    "# showing the plot \n",
    "plt.show() "
   ]
  },
  {
   "cell_type": "markdown",
   "metadata": {},
   "source": [
    "# Random Numbers"
   ]
  },
  {
   "cell_type": "code",
   "execution_count": null,
   "metadata": {},
   "outputs": [],
   "source": [
    "#Generate a random integer from 0 to 100:\n",
    "\n",
    "from numpy import random\n",
    "\n",
    "x = random.randint(100)\n",
    "\n",
    "print(x)"
   ]
  },
  {
   "cell_type": "code",
   "execution_count": null,
   "metadata": {},
   "outputs": [],
   "source": [
    "#Generate Random Float\n",
    "#The random module's rand() method returns a random float between 0 and 1.\n",
    "\n",
    "#Generate a random float from 0 to 1:\n",
    "\n",
    "x = random.rand()\n",
    "print(x)\n",
    "\n",
    "y = random.rand(5)\n",
    "print (\"\\n\",y)\n",
    "z = random.rand(2,5)\n",
    "print (\"\\n\",z)"
   ]
  },
  {
   "cell_type": "code",
   "execution_count": null,
   "metadata": {},
   "outputs": [],
   "source": [
    "#he randint() method takes a size parameter where you can specify the shape of an array.\n",
    "\n",
    "#Generate a 1-D array containing 5 random integers from 0 to 100:\n",
    "\n",
    "x=random.randint(100, size=(5))\n",
    "\n",
    "print(x)"
   ]
  },
  {
   "cell_type": "code",
   "execution_count": null,
   "metadata": {},
   "outputs": [],
   "source": [
    "#Example\n",
    "#Generate a 2-D array with 3 rows, each row containing 5 random integers from 0 to 100:\n",
    "\n",
    "x = random.randint(100, size=(3, 5))\n",
    "\n",
    "print(x)"
   ]
  },
  {
   "cell_type": "markdown",
   "metadata": {},
   "source": [
    "# BOX PLOTS"
   ]
  },
  {
   "cell_type": "markdown",
   "metadata": {},
   "source": [
    "Boxplots are a measure of how well distributed the data in a data set is.\n",
    "\n",
    "It divides the data set into three quartiles. \n",
    "\n",
    "This graph represents the minimum, maximum, median, first quartile and third quartile in the data set. \n",
    "\n",
    "It is also useful in comparing the distribution of data across data sets by drawing boxplots for each of them."
   ]
  },
  {
   "cell_type": "markdown",
   "metadata": {},
   "source": [
    "For instance, here is a boxplot representing five trials of 10 observations of a uniform random variable on [0,1)"
   ]
  },
  {
   "cell_type": "code",
   "execution_count": null,
   "metadata": {},
   "outputs": [],
   "source": [
    "import pandas as pd\n",
    "df = pd.DataFrame(np.random.rand(10, 5), columns=['A', 'B', 'C', 'D', 'E'])\n",
    "df.plot.box(grid='True')"
   ]
  },
  {
   "cell_type": "markdown",
   "metadata": {},
   "source": [
    "# Lab Exercises"
   ]
  },
  {
   "cell_type": "code",
   "execution_count": null,
   "metadata": {},
   "outputs": [],
   "source": [
    "#Write a Python programming to display a bar chart of the popularity of programming Languages. \n",
    "#Sample data:\n",
    "#Programming languages: Java, Python, PHP, JavaScript, C#, C++\n",
    "#Popularity: 22.2, 17.6, 8.8, 8, 7.7, 6.7"
   ]
  },
  {
   "cell_type": "code",
   "execution_count": null,
   "metadata": {},
   "outputs": [],
   "source": [
    "#Write a Python program to create bar plot of scores by group and gender. Use multiple X values on the same chart for men and women.\n",
    "#Sample Data:\n",
    "#Means (men) = (22, 30, 35, 35, 26)\n",
    "#Means (women) = (25, 32, 30, 35, 29)"
   ]
  },
  {
   "cell_type": "code",
   "execution_count": null,
   "metadata": {},
   "outputs": [],
   "source": [
    "#Write a Python programming to create a pie chart of the popularity of programming Languages. \n",
    "#Sample data:\n",
    "#Programming languages: Java, Python, PHP, JavaScript, C#, C++\n",
    "#Popularity: 22.2, 17.6, 8.8, 8, 7.7, 6.7"
   ]
  },
  {
   "cell_type": "code",
   "execution_count": null,
   "metadata": {},
   "outputs": [],
   "source": [
    "# Write a Python program to draw a scatter graph taking a random distribution in X and Y and plotted against each other. \n",
    "#comment on correlation."
   ]
  },
  {
   "cell_type": "code",
   "execution_count": null,
   "metadata": {},
   "outputs": [],
   "source": [
    "#For the following data:Age of Car(in years)2,4,6,8,10 and Maintenance (in 1000 Rs.):5,7,8.5,11,12.5. \n",
    "#Plot the scatter plot with formatting.Which type of relationship is it?"
   ]
  },
  {
   "cell_type": "code",
   "execution_count": 5,
   "metadata": {},
   "outputs": [],
   "source": [
    "#A survey of daily travel time had these results (in minutes):26, 33, 65, 28, 34, 55, 25, 44, 50, 36, 26, 37, 43, 62, 35, 38, 45, 32, 28, 34\n",
    "#Write a Python Program to plot a histogram and comment on normality.\n"
   ]
  },
  {
   "cell_type": "code",
   "execution_count": null,
   "metadata": {},
   "outputs": [],
   "source": [
    "#For the following data:House Price in $10000s:24,31,27,30,19 and 100 Square Feet: 14,16,17,18,11. \n",
    "#Plot the scatter plot with formatting.Which type of relationship is it?"
   ]
  },
  {
   "cell_type": "code",
   "execution_count": 6,
   "metadata": {},
   "outputs": [],
   "source": [
    "#Here are the students' results (out of 60 points):20, 15, 26, 32, 18, 28, 35, 14, 26, 22, 17\n",
    "#Write a Python Program to plot a histogram and comment on normality."
   ]
  },
  {
   "cell_type": "code",
   "execution_count": null,
   "metadata": {},
   "outputs": [],
   "source": []
  }
 ],
 "metadata": {
  "kernelspec": {
   "display_name": "Python 3",
   "language": "python",
   "name": "python3"
  },
  "language_info": {
   "codemirror_mode": {
    "name": "ipython",
    "version": 3
   },
   "file_extension": ".py",
   "mimetype": "text/x-python",
   "name": "python",
   "nbconvert_exporter": "python",
   "pygments_lexer": "ipython3",
   "version": "3.7.6"
  }
 },
 "nbformat": 4,
 "nbformat_minor": 4
}
