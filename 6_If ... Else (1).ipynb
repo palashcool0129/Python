{
 "cells": [
  {
   "cell_type": "code",
   "execution_count": 1,
   "metadata": {},
   "outputs": [
    {
     "name": "stdout",
     "output_type": "stream",
     "text": [
      "5 is less than 10\n"
     ]
    }
   ],
   "source": [
    "#if_statement():\n",
    "x = 5\n",
    "if x < 10:\n",
    "    print(x, \"is less than 10\")"
   ]
  },
  {
   "cell_type": "code",
   "execution_count": 2,
   "metadata": {},
   "outputs": [
    {
     "name": "stdout",
     "output_type": "stream",
     "text": [
      "b is greater than a\n"
     ]
    }
   ],
   "source": [
    "a = 33\n",
    "b = 200\n",
    "if b > a:\n",
    "    print(\"b is greater than a\")"
   ]
  },
  {
   "cell_type": "code",
   "execution_count": 3,
   "metadata": {},
   "outputs": [],
   "source": [
    "#If statement, without indentation (will raise an error): Try it\n"
   ]
  },
  {
   "cell_type": "code",
   "execution_count": 3,
   "metadata": {},
   "outputs": [
    {
     "name": "stdout",
     "output_type": "stream",
     "text": [
      "Both conditions are True\n"
     ]
    }
   ],
   "source": [
    "a = 200\n",
    "b = 33\n",
    "c = 500\n",
    "if a > b and c > a:\n",
    "    print(\"Both conditions are True\")"
   ]
  },
  {
   "cell_type": "code",
   "execution_count": 4,
   "metadata": {},
   "outputs": [
    {
     "name": "stdout",
     "output_type": "stream",
     "text": [
      "At least one of the conditions is True\n"
     ]
    }
   ],
   "source": [
    "#Test if a is greater than b, OR if a is greater than c:\n",
    "\n",
    "a = 200\n",
    "b = 33\n",
    "c = 500\n",
    "if a > b or a > c:\n",
    "    print(\"At least one of the conditions is True\")\n"
   ]
  },
  {
   "cell_type": "code",
   "execution_count": 5,
   "metadata": {},
   "outputs": [
    {
     "name": "stdout",
     "output_type": "stream",
     "text": [
      "3 is a positive number.\n",
      "This is always printed.\n"
     ]
    }
   ],
   "source": [
    "# If the number is positive, we print an appropriate message\n",
    "\n",
    "num = 3\n",
    "if num > 0:\n",
    "    print(num, \"is a positive number.\")\n",
    "print(\"This is always printed.\")\n",
    "\n",
    "num = -1\n",
    "if num > 0:\n",
    "    print(num, \"is a positive number.\")\n"
   ]
  },
  {
   "cell_type": "code",
   "execution_count": 7,
   "metadata": {},
   "outputs": [],
   "source": [
    "#The pass Statement\n",
    "#if statements cannot be empty, but if you for some reason have an if statement with no content, put in the pass statement to avoid getting an error.\n",
    "\n",
    "a = 33\n",
    "b = 200\n",
    "\n",
    "if b > a:\n",
    "    pass"
   ]
  },
  {
   "cell_type": "code",
   "execution_count": 8,
   "metadata": {},
   "outputs": [
    {
     "name": "stdout",
     "output_type": "stream",
     "text": [
      "Even Number\n"
     ]
    }
   ],
   "source": [
    "num = 22\n",
    "if num % 2 == 0:\n",
    "    print(\"Even Number\")\n",
    "else:\n",
    "    print(\"Odd Number\")"
   ]
  },
  {
   "cell_type": "code",
   "execution_count": 10,
   "metadata": {},
   "outputs": [
    {
     "name": "stdout",
     "output_type": "stream",
     "text": [
      "b is not greater than a\n"
     ]
    }
   ],
   "source": [
    "a = 200\n",
    "b = 33\n",
    "if b > a:\n",
    "    print(\"b is greater than a\")\n",
    "else:\n",
    "    print(\"b is not greater than a\")"
   ]
  },
  {
   "cell_type": "code",
   "execution_count": 12,
   "metadata": {},
   "outputs": [
    {
     "name": "stdout",
     "output_type": "stream",
     "text": [
      "y is not positive\n"
     ]
    }
   ],
   "source": [
    "#if else statement \n",
    "x = 5\n",
    "y = 0\n",
    "z = 0\n",
    "   \n",
    "if y > 0:\n",
    "    print(\"y is positive\")\n",
    "else:\n",
    "    print(\"y is not positive\")"
   ]
  },
  {
   "cell_type": "code",
   "execution_count": 16,
   "metadata": {},
   "outputs": [
    {
     "name": "stdout",
     "output_type": "stream",
     "text": [
      "Enter the number4\n",
      "a is not equal to 20\n"
     ]
    }
   ],
   "source": [
    "#Nested If in Python\n",
    "a = int(input(\"Enter the number\"))\n",
    "if (a == 20):\n",
    "# First if statement\n",
    "    if (a < 25):\n",
    "        print (\"a is smaller than 25\")\n",
    "    else:\n",
    "        print (\"a is greater than 25\")\n",
    "else:\n",
    "    print (\"a is not equal to 20\")\n"
   ]
  },
  {
   "cell_type": "code",
   "execution_count": 21,
   "metadata": {},
   "outputs": [
    {
     "name": "stdout",
     "output_type": "stream",
     "text": [
      "a is greater than b\n"
     ]
    }
   ],
   "source": [
    "#Shorthand if and if else is nothing but a way to write the if statements in one line when we have only one statement to execute in the if block and the else block.\n",
    "#An example for shorthand if in Python:\n",
    "a = 4\n",
    "b = 2\n",
    "if a>b: print(\"a is greater than b\")"
   ]
  },
  {
   "cell_type": "code",
   "execution_count": 22,
   "metadata": {},
   "outputs": [
    {
     "name": "stdout",
     "output_type": "stream",
     "text": [
      "a is greater\n"
     ]
    }
   ],
   "source": [
    "#An example for shorthand of state else condition:\n",
    "a = 4\n",
    "b = 2\n",
    "print(\"a is greater\") if a>b else print (\"b is greater\")\n"
   ]
  },
  {
   "cell_type": "code",
   "execution_count": 27,
   "metadata": {},
   "outputs": [
    {
     "name": "stdout",
     "output_type": "stream",
     "text": [
      "Enter the score50\n",
      "You  failed\n"
     ]
    }
   ],
   "source": [
    "#Elif\n",
    "#If you need to check one condition then you use an if statement. If you need to check another condition then you can put a nested if statement in it:\n",
    "score=int(input(\"Enter the score\"))\n",
    "if score >= 90:\n",
    "    print(\"you got an A!\")\n",
    "else:\n",
    "    if score >= 80:\n",
    "        print(\"You got a B!\")\n",
    "    else:\n",
    "        if score >= 70:\n",
    "            print(\"C is for cookie, and that's good enough for me!\")\n",
    "        else:\n",
    "            if score >= 60:\n",
    "                print(\"You got a D :(\")\n",
    "            else:\n",
    "                print(\"You  failed\")"
   ]
  },
  {
   "cell_type": "code",
   "execution_count": 28,
   "metadata": {},
   "outputs": [
    {
     "name": "stdout",
     "output_type": "stream",
     "text": [
      "Enter the score50\n",
      "You  failed\n"
     ]
    }
   ],
   "source": [
    "#That structure is pretty messy. So we invented the elif statement to combine the common else: if structure:\n",
    "score=int(input(\"Enter the score\"))\n",
    "if score >= 90:\n",
    "    print(\"you got an A!\")\n",
    "elif score >= 80:\n",
    "    print(\"You got a B!\")\n",
    "elif score >= 70:\n",
    "    print(\"C is for cookie, and that's good enough for me!\")\n",
    "elif score >= 60:\n",
    "    print(\"You got a D :(\")\n",
    "else:\n",
    "    print(\"You  failed\")"
   ]
  },
  {
   "cell_type": "code",
   "execution_count": 48,
   "metadata": {},
   "outputs": [
    {
     "name": "stdout",
     "output_type": "stream",
     "text": [
      "cicle or square: cIRCLE\n",
      "Enter the radius:2\n",
      "Area of circle is 12.56 sq units\n"
     ]
    }
   ],
   "source": [
    "#Area of circle or square\n",
    "type_=input(\"cicle or square: \").lower()\n",
    "if type_ == \"circle\":\n",
    "    x=int(input(\"Enter the radius:\"))\n",
    "    area = 3.14*x**2\n",
    "    print(\"Area of circle is\", area, \"sq units\")\n",
    "elif type_ == \"square\":\n",
    "        x=int(input(\"Enter the side:\"))\n",
    "        area = x**2\n",
    "        print(\"Area of square is\", area, \"sq units\")\n",
    "else:\n",
    "        print(\"I don't know that one.\")"
   ]
  },
  {
   "cell_type": "code",
   "execution_count": 43,
   "metadata": {},
   "outputs": [
    {
     "name": "stdout",
     "output_type": "stream",
     "text": [
      "How many days in a leap year? 5\n",
      "You are failed!\n"
     ]
    }
   ],
   "source": [
    "days = int(input(\"How many days in a leap year? \"))\n",
    "if days == 366:\n",
    "    print(\"You have cleared the test.\")\n",
    "else:\n",
    "    print(\"You are failed!\")"
   ]
  },
  {
   "cell_type": "code",
   "execution_count": 47,
   "metadata": {},
   "outputs": [
    {
     "name": "stdout",
     "output_type": "stream",
     "text": [
      "Which Python data type is an ordered sequence? LOWER\n",
      "You entered: lower\n",
      "Your input is wrong. Please try again.\n"
     ]
    }
   ],
   "source": [
    "response = input(\"Which Python data type is an ordered sequence? \").lower()\n",
    "    \n",
    "print(\"You entered:\", response)\n",
    "    \n",
    "if response == \"list\":\n",
    "    print(\"You have cleared the test.\")\n",
    "elif response == \"tuple\":\n",
    "    print(\"You have cleared the test.\")\n",
    "else:\n",
    "    print(\"Your input is wrong. Please try again.\")"
   ]
  },
  {
   "cell_type": "code",
   "execution_count": 54,
   "metadata": {},
   "outputs": [
    {
     "name": "stdout",
     "output_type": "stream",
     "text": [
      "Enter the first number 2.2\n",
      "Enter the second number 3\n",
      "Enter the third number 3.3\n",
      "avg = 2.8333333333333335\n",
      "2 is just higher than 2\n"
     ]
    }
   ],
   "source": [
    "#Average\n",
    "a = float(input(\"Enter the first number \"))\n",
    "b = float(input(\"Enter the second number \"))\n",
    "c = float(input(\"Enter the third number \"))\n",
    "\n",
    "avg = (a + b + c) / 3\n",
    "print(\"avg =\", avg)\n",
    "\n",
    "if avg > a and avg > b and avg > c:\n",
    "    print(\"%d is higher than %d, %d, %d\" %(avg, a, b, c))\n",
    "elif avg > a and avg > b:\n",
    "    print(\"%d is higher than %d, %d\" %(avg, a, b))\n",
    "elif avg > a and avg > c:\n",
    "    print(\"%d is higher than %d, %d\" %(avg, a, c))\n",
    "elif avg > b and avg > c:\n",
    "    print(\"%d is higher than %d, %d\" %(avg, b, c))\n",
    "elif avg > a:\n",
    "    print(\"%d is just higher than %d\" %(avg, a))\n",
    "elif avg > b:\n",
    "    print(\"%d is just higher than %d\" %(avg, b))\n",
    "elif avg > c:\n",
    "    print(\"%d is just higher than %d\" %(avg, c))"
   ]
  },
  {
   "cell_type": "code",
   "execution_count": 55,
   "metadata": {},
   "outputs": [
    {
     "name": "stdout",
     "output_type": "stream",
     "text": [
      "Nick also plays for team2.\n",
      "Alex also plays for team2.\n"
     ]
    }
   ],
   "source": [
    "# Find players who play both games\n",
    "\n",
    "team1 =[\"Jake\", \"Allan\", \"Nick\", \"Alex\", \"Dave\"]\n",
    "team2 =[\"David\", \"John\", \"Chris\", \"Alex\", \"Nick\"]\n",
    "\n",
    "for aplayer in team1:\n",
    "    if aplayer in team2:\n",
    "        print(\"%s also plays for team2.\" %(aplayer))"
   ]
  },
  {
   "cell_type": "code",
   "execution_count": 64,
   "metadata": {},
   "outputs": [
    {
     "name": "stdout",
     "output_type": "stream",
     "text": [
      "Input a year: 2000\n",
      "Input a month [1-12]: 5\n",
      "Input a day [1-31]: 1\n",
      "The next date is [yyyy-mm-dd] 2000-5-2.\n"
     ]
    }
   ],
   "source": [
    "#Python program to get next day of a given date.\n",
    "year = int(input(\"Input a year: \"))\n",
    "\n",
    "if (year % 400 == 0):\n",
    "    leap_year = True\n",
    "elif (year % 100 == 0):\n",
    "    leap_year = False\n",
    "elif (year % 4 == 0):\n",
    "    leap_year = True\n",
    "else:\n",
    "    leap_year = False\n",
    "\n",
    "month = int(input(\"Input a month [1-12]: \"))\n",
    "\n",
    "if month in (1, 3, 5, 7, 8, 10, 12):\n",
    "    month_length = 31\n",
    "elif month == 2:\n",
    "    if leap_year:\n",
    "        month_length = 29\n",
    "    else:\n",
    "        month_length = 28\n",
    "else:\n",
    "    month_length = 30\n",
    "\n",
    "\n",
    "day = int(input(\"Input a day [1-31]: \"))\n",
    "\n",
    "if day < month_length:\n",
    "    day += 1\n",
    "else:\n",
    "    day = 1\n",
    "    if month == 12:\n",
    "        month = 1\n",
    "        year += 1\n",
    "    else:\n",
    "        month += 1\n",
    "print(\"The next date is [yyyy-mm-dd] %d-%d-%d.\" % (year, month, day))"
   ]
  },
  {
   "cell_type": "markdown",
   "metadata": {},
   "source": [
    "# Lab Exercise"
   ]
  },
  {
   "cell_type": "code",
   "execution_count": 56,
   "metadata": {},
   "outputs": [],
   "source": [
    "\n",
    "#Take values of length and breadth of a rectangle from user and check if it is square or not."
   ]
  },
  {
   "cell_type": "code",
   "execution_count": 57,
   "metadata": {},
   "outputs": [],
   "source": [
    "#Program to check whether a person is eligible to vote or not."
   ]
  },
  {
   "cell_type": "markdown",
   "metadata": {},
   "source": [
    "A school has following rules for grading system:\n",
    "\n",
    "a. Below 25 - F\n",
    "\n",
    "b. 25 to 45 - E\n",
    "\n",
    "c. 45 to 50 - D\n",
    "\n",
    "d. 50 to 60 - C\n",
    "\n",
    "e. 60 to 80 - B\n",
    "\n",
    "f. Above 80 - A\n",
    "\n",
    "Ask user to enter marks and print the corresponding grade."
   ]
  },
  {
   "cell_type": "code",
   "execution_count": 58,
   "metadata": {},
   "outputs": [],
   "source": [
    "#Take input of age of 3 people by user and determine oldest and youngest among them.\n"
   ]
  },
  {
   "cell_type": "code",
   "execution_count": 59,
   "metadata": {},
   "outputs": [],
   "source": [
    "#Write a program to print absolute vlaue of a number entered by user."
   ]
  },
  {
   "cell_type": "markdown",
   "metadata": {},
   "source": [
    "A student will not be allowed to sit in exam if his/her attendence is less than 75%.\n",
    "\n",
    "Take following input from user\n",
    "\n",
    "Number of classes held\n",
    "\n",
    "Number of classes attended.\n",
    "\n",
    "And print\n",
    "\n",
    "percentage of class attended\n",
    "\n",
    "Is student is allowed to sit in exam or not.\n"
   ]
  },
  {
   "cell_type": "code",
   "execution_count": 60,
   "metadata": {},
   "outputs": [],
   "source": [
    "#Modify the above question to allow student to sit if he/she has medical cause. Ask user if he/she has medical cause or not ( 'Y' or 'N' ) and print accordingly.\n"
   ]
  },
  {
   "cell_type": "code",
   "execution_count": 61,
   "metadata": {},
   "outputs": [],
   "source": [
    "#A company decided to give bonus of 5% to employee if his/her year of service is more than 5 years.Ask user for their salary and year of service and print the net bonus amount."
   ]
  },
  {
   "cell_type": "code",
   "execution_count": 62,
   "metadata": {},
   "outputs": [],
   "source": [
    "#Write a Python program to convert month name to a number of days."
   ]
  },
  {
   "cell_type": "code",
   "execution_count": 63,
   "metadata": {},
   "outputs": [],
   "source": [
    "# Write a Python program to check a triangle is equilateral, isosceles or scalene."
   ]
  },
  {
   "cell_type": "code",
   "execution_count": 65,
   "metadata": {},
   "outputs": [],
   "source": [
    "#Write a Python program to check whether an alphabet is a vowel or consonant."
   ]
  },
  {
   "cell_type": "code",
   "execution_count": 66,
   "metadata": {},
   "outputs": [],
   "source": [
    "#Write a Python program to convert month name to a number of days."
   ]
  },
  {
   "cell_type": "code",
   "execution_count": 67,
   "metadata": {},
   "outputs": [],
   "source": [
    "#Write a Python program that reads two integers representing a month and day and prints the season for that month"
   ]
  },
  {
   "cell_type": "code",
   "execution_count": 68,
   "metadata": {},
   "outputs": [],
   "source": [
    "#A shop will give discount of 10% if the cost of purchased quantity is more than 1000.\n",
    "#Ask user for quantity\n",
    "#Suppose, one unit will cost 100.\n",
    "#print total cost for user."
   ]
  },
  {
   "cell_type": "code",
   "execution_count": null,
   "metadata": {},
   "outputs": [],
   "source": [
    "#Write a python program to find out the Area of rectangle or triangle.\n"
   ]
  }
 ],
 "metadata": {
  "kernelspec": {
   "display_name": "Python 3",
   "language": "python",
   "name": "python3"
  },
  "language_info": {
   "codemirror_mode": {
    "name": "ipython",
    "version": 3
   },
   "file_extension": ".py",
   "mimetype": "text/x-python",
   "name": "python",
   "nbconvert_exporter": "python",
   "pygments_lexer": "ipython3",
   "version": "3.7.6"
  }
 },
 "nbformat": 4,
 "nbformat_minor": 4
}
