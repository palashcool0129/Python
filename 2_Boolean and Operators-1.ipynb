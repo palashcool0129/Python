{
 "cells": [
  {
   "cell_type": "code",
   "execution_count": null,
   "metadata": {},
   "outputs": [],
   "source": [
    "#Python Booleans\n",
    "#Booleans represent one of two values: True or False.\n",
    "#You can evaluate any expression in Python, and get one of two answers, True or False.\n",
    "print(10 > 9)\n",
    "print(10 == 9)\n",
    "print(10 < 9)"
   ]
  },
  {
   "cell_type": "code",
   "execution_count": null,
   "metadata": {},
   "outputs": [],
   "source": [
    "#Practice cell"
   ]
  },
  {
   "cell_type": "code",
   "execution_count": null,
   "metadata": {},
   "outputs": [],
   "source": [
    "#Evaluate Values and Variables\n",
    "#The bool() function allows you to evaluate any value, and give you True or False in return,\n",
    "#Evaluate a string and a number:\n",
    "\n",
    "print(bool(\"Hello\"))\n",
    "print(bool(15))"
   ]
  },
  {
   "cell_type": "code",
   "execution_count": null,
   "metadata": {},
   "outputs": [],
   "source": [
    "name = \"Sam\"\n",
    "print(name == \"Sam\")\n",
    "print(name == \"Aam\")"
   ]
  },
  {
   "cell_type": "code",
   "execution_count": null,
   "metadata": {},
   "outputs": [],
   "source": [
    "#Practice cell"
   ]
  },
  {
   "cell_type": "code",
   "execution_count": null,
   "metadata": {},
   "outputs": [],
   "source": [
    "#he following will return False:\n",
    "\n",
    "bool(False)"
   ]
  },
  {
   "cell_type": "code",
   "execution_count": null,
   "metadata": {},
   "outputs": [],
   "source": [
    "bool(None)"
   ]
  },
  {
   "cell_type": "code",
   "execution_count": null,
   "metadata": {},
   "outputs": [],
   "source": [
    "bool(0)"
   ]
  },
  {
   "cell_type": "code",
   "execution_count": null,
   "metadata": {},
   "outputs": [],
   "source": [
    "bool(\"\")"
   ]
  },
  {
   "cell_type": "code",
   "execution_count": null,
   "metadata": {},
   "outputs": [],
   "source": [
    "bool(())"
   ]
  },
  {
   "cell_type": "code",
   "execution_count": null,
   "metadata": {},
   "outputs": [],
   "source": [
    "bool([])"
   ]
  },
  {
   "cell_type": "code",
   "execution_count": null,
   "metadata": {},
   "outputs": [],
   "source": [
    "bool({})"
   ]
  },
  {
   "cell_type": "code",
   "execution_count": null,
   "metadata": {},
   "outputs": [],
   "source": [
    "#Practice cell"
   ]
  },
  {
   "cell_type": "code",
   "execution_count": null,
   "metadata": {},
   "outputs": [],
   "source": [
    "#Functions can Return a Boolean\n",
    "#You can create functions that returns a Boolean Value:\n",
    "\n",
    "#Print the answer of a function:\n",
    "\n",
    "def myFunction() :\n",
    "  return False\n",
    "\n",
    "print(myFunction())"
   ]
  },
  {
   "cell_type": "code",
   "execution_count": null,
   "metadata": {},
   "outputs": [],
   "source": [
    "#create functions that returns a Boolean Value: True"
   ]
  },
  {
   "cell_type": "code",
   "execution_count": null,
   "metadata": {},
   "outputs": [],
   "source": [
    "#Print \"YES!\" if the function returns True, otherwise print \"NO!\":\n",
    "\n",
    "def myFunction() :\n",
    "  return True\n",
    "\n",
    "if myFunction():\n",
    "  print(\"YES!\")\n",
    "else:\n",
    "  print(\"NO!\")"
   ]
  },
  {
   "cell_type": "code",
   "execution_count": null,
   "metadata": {},
   "outputs": [],
   "source": [
    "#Print \"NO!\" if the function returns True, otherwise print \"NO!\":"
   ]
  },
  {
   "cell_type": "markdown",
   "metadata": {},
   "source": [
    "# Python Operators\n",
    "#Operators are used to perform operations on variables and values.\n",
    "\n",
    "#Python divides the operators in the following groups:\n",
    "\n",
    "#Arithmetic operators\n",
    "#Assignment operators\n",
    "#Comparison operators\n",
    "#Logical operators\n",
    "#Identity operators\n",
    "#Membership operators\n",
    "#Bitwise operators"
   ]
  },
  {
   "cell_type": "markdown",
   "metadata": {},
   "source": [
    "# Python Arithmetic Operators\n",
    "#Arithmetic operators are used with numeric values to perform common mathematical operations:\n",
    "#Quick look at arithmetic operations +, -, *, **, /, //, %\n",
    "#These add, subtraction, multiple, exponentiate, divide, integer divide (drops fractional part), computes remainder on division for integers\n"
   ]
  },
  {
   "cell_type": "code",
   "execution_count": null,
   "metadata": {},
   "outputs": [],
   "source": [
    "a=2+3\n",
    "print(a)\n",
    "b=2-3\n",
    "print(b)\n",
    "c=1*2\n",
    "print(c)\n",
    "d=2**3\n",
    "print(d)\n",
    "print(6/3)\n",
    "print(7//3)\n",
    "e=7%3\n",
    "print(e)"
   ]
  },
  {
   "cell_type": "code",
   "execution_count": null,
   "metadata": {},
   "outputs": [],
   "source": [
    "#Python Comparison Operators\n",
    "#Comparison operators are used to compare two values:\n",
    "\n",
    "#==\tEqual\n",
    "x = 5\n",
    "y = 3\n",
    "\n",
    "print(x == y)\n",
    "\n",
    "# returns False because 5 is not equal to 3\n"
   ]
  },
  {
   "cell_type": "code",
   "execution_count": null,
   "metadata": {},
   "outputs": [],
   "source": [
    "#!=\tNot equal\n",
    "x = 5\n",
    "y = 3\n",
    "\n",
    "print(x != y)\n",
    "\n",
    "# returns True because 5 is not equal to 3"
   ]
  },
  {
   "cell_type": "code",
   "execution_count": null,
   "metadata": {},
   "outputs": [],
   "source": [
    "#>\tGreater than\n",
    "x = 5\n",
    "y = 3\n",
    "\n",
    "print(x > y)\n",
    "\n",
    "# returns True because 5 is greater than 3\n"
   ]
  },
  {
   "cell_type": "code",
   "execution_count": null,
   "metadata": {},
   "outputs": [],
   "source": [
    "#<\tLess than\n",
    "x = 5\n",
    "y = 3\n",
    "\n",
    "print(x < y)\n",
    "\n",
    "# returns False because 5 is not less than 3\n"
   ]
  },
  {
   "cell_type": "code",
   "execution_count": null,
   "metadata": {},
   "outputs": [],
   "source": [
    "#>=\tGreater than or equal to\n",
    "x = 5\n",
    "y = 3\n",
    "\n",
    "print(x >= y)\n",
    "\n",
    "# returns True because five is greater, or equal, to 3\n"
   ]
  },
  {
   "cell_type": "code",
   "execution_count": null,
   "metadata": {},
   "outputs": [],
   "source": [
    "#<=\tLess than or equal to\n",
    "x = 5\n",
    "y = 3\n",
    "\n",
    "print(x <= y)\n",
    "\n",
    "# returns False because 5 is neither less than or equal to 3\n"
   ]
  },
  {
   "cell_type": "markdown",
   "metadata": {},
   "source": [
    "# Python Logical Operators\n",
    "#Logical operators are used to combine conditional statements:"
   ]
  },
  {
   "cell_type": "code",
   "execution_count": null,
   "metadata": {},
   "outputs": [],
   "source": [
    "# and \tReturns True if both statements are true\n",
    "x = 5\n",
    "\n",
    "print(x > 3 and x < 10)\n",
    "\n",
    "# returns True because 5 is greater than 3 AND 5 is less than 10\n"
   ]
  },
  {
   "cell_type": "code",
   "execution_count": null,
   "metadata": {},
   "outputs": [],
   "source": [
    "#or\tReturns True if one of the statements is true\n",
    "x = 5\n",
    "\n",
    "print(x > 3 or x < 4)\n",
    "\n",
    "# returns True because one of the conditions are true (5 is greater than 3, but 5 is not less than 4)\n"
   ]
  },
  {
   "cell_type": "code",
   "execution_count": null,
   "metadata": {},
   "outputs": [],
   "source": [
    "#not\tReverse the result, returns False if the result is true\n",
    "x = 5\n",
    "\n",
    "print(not(x > 3 and x < 10))\n",
    "\n",
    "# returns False because not is used to reverse the result\n"
   ]
  },
  {
   "cell_type": "markdown",
   "metadata": {},
   "source": [
    "#Python Identity Operators\n",
    "#Identity operators are used to compare the objects, not if they are equal, but if they are actually the same object, with the same memory location:"
   ]
  },
  {
   "cell_type": "code",
   "execution_count": null,
   "metadata": {},
   "outputs": [],
   "source": [
    "#is \tReturns True if both variables are the same object\n",
    "x = [\"apple\", \"banana\"]\n",
    "y = [\"apple\", \"banana\"]\n",
    "z = x\n",
    "\n",
    "print(x is z)\n",
    "\n",
    "# returns True because z is the same object as x\n",
    "\n",
    "print(x is y)\n",
    "\n",
    "# returns False because x is not the same object as y, even if they have the same content\n",
    "\n",
    "print(x == y)\n",
    "\n",
    "# to demonstrate the difference betweeen \"is\" and \"==\": this comparison returns True because x is equal to y\n"
   ]
  },
  {
   "cell_type": "code",
   "execution_count": null,
   "metadata": {},
   "outputs": [],
   "source": [
    "#is not\tReturns True if both variables are not the same object\n",
    "x = [\"apple\", \"banana\"]\n",
    "y = [\"apple\", \"banana\"]\n",
    "z = x\n",
    "\n",
    "print(x is not z)\n",
    "\n",
    "# returns False because z is the same object as x\n",
    "\n",
    "print(x is not y)\n",
    "\n",
    "# returns True because x is not the same object as y, even if they have the same content\n",
    "\n",
    "print(x != y)\n",
    "\n",
    "# to demonstrate the difference betweeen \"is not\" and \"!=\": this comparison returns False because x is equal to y\n"
   ]
  },
  {
   "cell_type": "markdown",
   "metadata": {},
   "source": [
    "# Python Membership Operators\n",
    "#Membership operators are used to test if a sequence is presented in an object:"
   ]
  },
  {
   "cell_type": "code",
   "execution_count": null,
   "metadata": {},
   "outputs": [],
   "source": [
    "#in \tReturns True if a sequence with the specified value is present in the object\n",
    "x = [\"apple\", \"banana\"]\n",
    "\n",
    "print(\"banana\" in x)\n",
    "\n",
    "# returns True because a sequence with the value \"banana\" is in the list\n"
   ]
  },
  {
   "cell_type": "code",
   "execution_count": null,
   "metadata": {},
   "outputs": [],
   "source": [
    "#not in\tReturns True if a sequence with the specified value is not present in the object\n",
    "x = [\"apple\", \"banana\"]\n",
    "\n",
    "print(\"pineapple\" not in x)\n",
    "\n",
    "# returns True because a sequence with the value \"pineapple\" is not in the list\n"
   ]
  },
  {
   "cell_type": "markdown",
   "metadata": {},
   "source": [
    "# Python Bitwise Operators\n",
    "#Bitwise operators are used to compare (binary) numbers:"
   ]
  },
  {
   "cell_type": "code",
   "execution_count": null,
   "metadata": {},
   "outputs": [],
   "source": [
    "#Bitwise AND operator: Returns 1 if both the bits are 1 else 0.\n",
    "a = 10 # = 1010 (Binary)\n",
    "b = 4 #=  0100 (Binary\n",
    "\n",
    "#a & b = 1010  &  0100 = 0000   = 0 (Decimal)\n",
    "print(a&b)"
   ]
  },
  {
   "cell_type": "code",
   "execution_count": null,
   "metadata": {},
   "outputs": [],
   "source": [
    "#Bitwise or operator: \n",
    "\n",
    "a = 10 #= 1010 (Binary)\n",
    "b = 4 #=  0100 (Binary\n",
    "\n",
    "#a | b = 1010 | 0100 = 1110 = 14 (Decimal)\n",
    "\n",
    "print(a|b)"
   ]
  },
  {
   "cell_type": "code",
   "execution_count": null,
   "metadata": {},
   "outputs": [],
   "source": [
    "#Bitwise not operator: Returns one’s compliement of the number.\n",
    "\n",
    "a = 10 # 1010 (Binary)\n",
    "\n",
    "print(\"~a =\", ~a)  \n",
    " \n",
    "\n",
    "# ~1010 = -(1010 + 1) = -(1011)  = -11 (Decimal)"
   ]
  },
  {
   "cell_type": "code",
   "execution_count": null,
   "metadata": {},
   "outputs": [],
   "source": [
    "#Bitwise xor operator: Returns 1 if one of the bit is 1 and other is 0 else returns false.\n",
    "\n",
    "\n",
    "a = 10 # 1010 (Binary)\n",
    "b = 4  # 0100 (Binary\n",
    "\n",
    "print(a ^ b) \n",
    "#1010^0100 = 1110 = 14 (Decimal)\n"
   ]
  },
  {
   "cell_type": "markdown",
   "metadata": {},
   "source": [
    "binary equivalents using the function bin()."
   ]
  },
  {
   "cell_type": "code",
   "execution_count": null,
   "metadata": {},
   "outputs": [],
   "source": [
    "bin(5)"
   ]
  },
  {
   "cell_type": "markdown",
   "metadata": {},
   "source": [
    "# Lab Exercise\n"
   ]
  },
  {
   "cell_type": "code",
   "execution_count": null,
   "metadata": {},
   "outputs": [],
   "source": [
    "#Take two inputs from user and check whether they are equal or not.\n",
    "a = input(\"Enter the first number: \")\n",
    "b = input(\"Enter the second number: \")\n",
    "# if a is b: - Compares id's, and can cause inconsistencies. Use == instead.\n",
    "if a == b:\n",
    "  print(\"Both inputs are equal\")\n",
    "else:\n",
    "  print(\"Your input is not equal.\")"
   ]
  },
  {
   "cell_type": "code",
   "execution_count": null,
   "metadata": {},
   "outputs": [],
   "source": [
    "#Take 3 inputs from user and check :\n",
    "#all are equal\n",
    "#any of two are equal\n",
    "#( use and or )"
   ]
  },
  {
   "cell_type": "code",
   "execution_count": null,
   "metadata": {},
   "outputs": [],
   "source": [
    "#Take two inputs from user and check whether if first is gretaer than second or not."
   ]
  },
  {
   "cell_type": "code",
   "execution_count": null,
   "metadata": {},
   "outputs": [],
   "source": [
    "#Take two number and check whether the sum is greater than 5, less than 5 or equal to 5."
   ]
  },
  {
   "cell_type": "code",
   "execution_count": null,
   "metadata": {},
   "outputs": [],
   "source": [
    "#Suppose passing marks of a subject is 40. Take input of marks from user and check whether it is greater than passing marks or not.\n"
   ]
  },
  {
   "cell_type": "code",
   "execution_count": null,
   "metadata": {},
   "outputs": [],
   "source": [
    "##Take two inputs from user and check thier divisibility.\n"
   ]
  },
  {
   "cell_type": "code",
   "execution_count": null,
   "metadata": {},
   "outputs": [],
   "source": [
    "#write a Python Program for simple interest provided by user input\n"
   ]
  },
  {
   "cell_type": "code",
   "execution_count": null,
   "metadata": {},
   "outputs": [],
   "source": []
  }
 ],
 "metadata": {
  "kernelspec": {
   "display_name": "Python 3",
   "language": "python",
   "name": "python3"
  },
  "language_info": {
   "codemirror_mode": {
    "name": "ipython",
    "version": 3
   },
   "file_extension": ".py",
   "mimetype": "text/x-python",
   "name": "python",
   "nbconvert_exporter": "python",
   "pygments_lexer": "ipython3",
   "version": "3.7.6"
  }
 },
 "nbformat": 4,
 "nbformat_minor": 4
}
